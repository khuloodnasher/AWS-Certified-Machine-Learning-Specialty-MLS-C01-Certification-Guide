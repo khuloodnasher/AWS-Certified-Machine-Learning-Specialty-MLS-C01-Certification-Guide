{
  "nbformat": 4,
  "nbformat_minor": 0,
  "metadata": {
    "colab": {
      "name": "google pythonn.ipynb",
      "provenance": [],
      "authorship_tag": "ABX9TyOFPKd149mFPETGc1wXvaS+",
      "include_colab_link": true
    },
    "kernelspec": {
      "name": "python3",
      "display_name": "Python 3"
    },
    "language_info": {
      "name": "python"
    }
  },
  "cells": [
    {
      "cell_type": "markdown",
      "metadata": {
        "id": "view-in-github",
        "colab_type": "text"
      },
      "source": [
        "<a href=\"https://colab.research.google.com/github/khuloodnasher/AWS-Certified-Machine-Learning-Specialty-MLS-C01-Certification-Guide/blob/master/google_pythonn.ipynb\" target=\"_parent\"><img src=\"https://colab.research.google.com/assets/colab-badge.svg\" alt=\"Open In Colab\"/></a>"
      ]
    },
    {
      "cell_type": "code",
      "execution_count": null,
      "metadata": {
        "colab": {
          "base_uri": "https://localhost:8080/"
        },
        "id": "zSNutN0rI8UE",
        "outputId": "89e3d574-3607-4863-edcf-9d8a8354b9d3"
      },
      "outputs": [
        {
          "output_type": "stream",
          "name": "stdout",
          "text": [
            "Hello Adol\n",
            "Hello Raslan\n",
            "Hello Rami\n",
            "Hello omar\n"
          ]
        }
      ],
      "source": [
        "my_kids=['Adol',\"Raslan\",\"Rami\",\"omar\"]\n",
        "for kid in  my_kids:\n",
        "  print('Hello '+kid)"
      ]
    },
    {
      "cell_type": "code",
      "source": [
        "for i in range(10):\n",
        "  print(\"Hello, World!\")"
      ],
      "metadata": {
        "colab": {
          "base_uri": "https://localhost:8080/"
        },
        "id": "R3OkxJY8JUyL",
        "outputId": "95d2a48d-f997-4e51-fef9-0b62bcf68cde"
      },
      "execution_count": null,
      "outputs": [
        {
          "output_type": "stream",
          "name": "stdout",
          "text": [
            "Hello, World!\n",
            "Hello, World!\n",
            "Hello, World!\n",
            "Hello, World!\n",
            "Hello, World!\n",
            "Hello, World!\n",
            "Hello, World!\n",
            "Hello, World!\n",
            "Hello, World!\n",
            "Hello, World!\n"
          ]
        }
      ]
    },
    {
      "cell_type": "code",
      "source": [
        "color=\"red\"\n",
        "thing=\"my car\"\n",
        "print(color +\" is the color of \"+\n",
        "      thing)"
      ],
      "metadata": {
        "colab": {
          "base_uri": "https://localhost:8080/"
        },
        "id": "qw5k01A3OMp_",
        "outputId": "3c315667-4026-4268-a148-7b305f1e709e"
      },
      "execution_count": null,
      "outputs": [
        {
          "output_type": "stream",
          "name": "stdout",
          "text": [
            "red is the color of my car\n"
          ]
        }
      ]
    },
    {
      "cell_type": "code",
      "source": [
        "def greetings(name,department):\n",
        "  print(\"Hello \"+name)\n",
        "  print(\"from the department of: \" + department)\n",
        "name=\"Nasher\"\n",
        "department=\"AI\"\n"
      ],
      "metadata": {
        "id": "NHDNf5_rTJ5j"
      },
      "execution_count": null,
      "outputs": []
    },
    {
      "cell_type": "code",
      "source": [
        "greetings(name,department)\n",
        "\n"
      ],
      "metadata": {
        "colab": {
          "base_uri": "https://localhost:8080/"
        },
        "id": "VDa1LaS2uorI",
        "outputId": "c452705a-c8fe-419e-e30c-125845a663ab"
      },
      "execution_count": null,
      "outputs": [
        {
          "output_type": "stream",
          "name": "stdout",
          "text": [
            "Hello Nasher\n",
            "from the department of: AI\n"
          ]
        }
      ]
    },
    {
      "cell_type": "code",
      "source": [
        "\n",
        "def area_calculating(Height,Length):\n",
        "  return Height* Length/2\n",
        "area_a=area_calculating(10,5)\n",
        "area_b=area_calculating(8,4)\n",
        "sum_of_areas=area_a+area_b\n",
        "print(\"The sum of both areas are: \"+str(sum_of_areas) )"
      ],
      "metadata": {
        "colab": {
          "base_uri": "https://localhost:8080/"
        },
        "id": "KSj_VcKXvAUM",
        "outputId": "cebde663-b658-4edc-a546-f657b452db11"
      },
      "execution_count": null,
      "outputs": [
        {
          "output_type": "stream",
          "name": "stdout",
          "text": [
            "The sum of both areas are: 41.0\n"
          ]
        }
      ]
    },
    {
      "cell_type": "code",
      "source": [
        "def greeting(name):\n",
        "  return(\"welcome \"+ name)\n",
        "result=greeting(\"Khulood\")\n",
        "print(result)\n"
      ],
      "metadata": {
        "colab": {
          "base_uri": "https://localhost:8080/"
        },
        "id": "AA9FlpAzvcyF",
        "outputId": "7824347c-9482-461e-bbc6-a96f662124d6"
      },
      "execution_count": null,
      "outputs": [
        {
          "output_type": "stream",
          "name": "stdout",
          "text": [
            "welcome Khulood\n"
          ]
        }
      ]
    },
    {
      "cell_type": "code",
      "source": [
        "def convert_seconds(seconds):\n",
        "  hours=seconds//3600\n",
        "  minutes=(seconds-hours*3600)//60\n",
        "  remaining_seconds= seconds-(hours*3600+minutes*60)\n",
        "  return  hours,minutes,remaining_seconds\n",
        "\n",
        "hours_minute_seconds=convert_seconds(5000)\n",
        "print(hours_minute_seconds)"
      ],
      "metadata": {
        "colab": {
          "base_uri": "https://localhost:8080/"
        },
        "id": "RdVf5YwR3qBv",
        "outputId": "603432e6-ffd0-4293-d1ec-9c057d4b32e7"
      },
      "execution_count": null,
      "outputs": [
        {
          "output_type": "stream",
          "name": "stdout",
          "text": [
            "(1, 23, 20)\n"
          ]
        }
      ]
    },
    {
      "cell_type": "code",
      "source": [
        "def lucy_number(name):\n",
        " number= len(name)*9\n",
        " print(\"Hello  \" +name  +  \". Your lucky number is \"+ str(number))\n",
        "lucy_number(\"kay\") \n",
        "lucy_number(\"Khulood\")"
      ],
      "metadata": {
        "colab": {
          "base_uri": "https://localhost:8080/"
        },
        "id": "y4Yq9BdU9aYl",
        "outputId": "cccda669-f8c2-473e-905a-8f7ad366bff2"
      },
      "execution_count": null,
      "outputs": [
        {
          "output_type": "stream",
          "name": "stdout",
          "text": [
            "Hello  kay. Your lucky number is 27\n",
            "Hello  Khulood. Your lucky number is 63\n"
          ]
        }
      ]
    },
    {
      "cell_type": "code",
      "source": [
        "def  lucky_num(name):\n",
        "  number= len(name)*9\n",
        "  print(\"Hello \"+name+\".  Your lucky number is: \"+ str(number))\n",
        "lucky_num(\"Khulood\")\n",
        "lucky_num(\"Raslan\")  "
      ],
      "metadata": {
        "colab": {
          "base_uri": "https://localhost:8080/"
        },
        "id": "Q7JzLmLY83MS",
        "outputId": "9cd8a95e-e79f-436e-ef7a-05765f584945"
      },
      "execution_count": null,
      "outputs": [
        {
          "output_type": "stream",
          "name": "stdout",
          "text": [
            "Hello Khulood.  Your lucky number is: 63\n",
            "Hello Raslan.  Your lucky number is: 54\n"
          ]
        }
      ]
    },
    {
      "cell_type": "code",
      "source": [
        "def circle_area(raduis):\n",
        "  pi=3.14\n",
        "  #return pi*(raduis**2)\n",
        "  area= pi*(raduis**2)\n",
        "  print(\"The circle area is: \"+ str(area))\n",
        "circle_area(5)\n"
      ],
      "metadata": {
        "colab": {
          "base_uri": "https://localhost:8080/"
        },
        "id": "Rv3zHWyD-z0u",
        "outputId": "5de04c25-3b5e-4691-864a-ca3f4010222f"
      },
      "execution_count": null,
      "outputs": [
        {
          "output_type": "stream",
          "name": "stdout",
          "text": [
            "The circle area is: 78.5\n"
          ]
        }
      ]
    },
    {
      "cell_type": "code",
      "source": [
        "circle_area(3)"
      ],
      "metadata": {
        "colab": {
          "base_uri": "https://localhost:8080/"
        },
        "id": "U1xrMsEhBrgF",
        "outputId": "d78733f4-fa65-4b29-ab02-5756ad706a12"
      },
      "execution_count": null,
      "outputs": [
        {
          "output_type": "execute_result",
          "data": {
            "text/plain": [
              "28.26"
            ]
          },
          "metadata": {},
          "execution_count": 19
        }
      ]
    },
    {
      "cell_type": "code",
      "source": [
        "#FUNCTION FOR CALCulating number of days in june and july\n",
        "def calculating_days(month,days):\n",
        "  #month_name=str(month)\n",
        "  #num_days=str(days)\n",
        "  print(month +\" has \"+ str(days)+ \" days\" )\n",
        "calculating_days(\"June\",30)\n",
        "calculating_days(\"July\",31)"
      ],
      "metadata": {
        "colab": {
          "base_uri": "https://localhost:8080/"
        },
        "id": "uj__NaYJzqc8",
        "outputId": "04c128cb-0253-4099-da6f-d61042f480d9"
      },
      "execution_count": null,
      "outputs": [
        {
          "output_type": "stream",
          "name": "stdout",
          "text": [
            "June has 30 days\n",
            "July has 31 days\n"
          ]
        }
      ]
    },
    {
      "cell_type": "code",
      "source": [
        "def month_days(month,days):\n",
        "    print (month+ \"has \" + str(days) + \" days. \")\n",
        "month_days (\"June \",\"30\")\n",
        "month_days (\"July \", \"31\")"
      ],
      "metadata": {
        "colab": {
          "base_uri": "https://localhost:8080/"
        },
        "id": "Kbsm3EopEs6d",
        "outputId": "0dcb7467-b135-4e3e-8657-d4e69491682a"
      },
      "execution_count": null,
      "outputs": [
        {
          "output_type": "stream",
          "name": "stdout",
          "text": [
            "June has 30 days. \n",
            "July has 31 days. \n"
          ]
        }
      ]
    },
    {
      "cell_type": "markdown",
      "source": [
        "# Practice Quiz: Functions\n",
        "\n",
        "Question 1\n",
        "This function converts miles to kilometers (km).\n",
        "\n",
        "Complete the function to return the result of the conversion\n",
        "\n",
        "Call the function to convert the trip distance from miles to kilometers\n",
        "\n",
        "Fill in the blank to print the result of the conversion\n",
        "\n",
        "Calculate the round-trip in kilometers by doubling the result, and fill in the blank to print the result\n",
        "\n"
      ],
      "metadata": {
        "id": "GyRAx9bGcCe7"
      }
    },
    {
      "cell_type": "code",
      "source": [
        "# 1) Complete the function to return the result of the conversion\n",
        "def convert_distance(miles):\n",
        "\treturn miles * 1.6  # approximately 1.6 km in 1 mile\n",
        "\n",
        "my_trip_miles = 55\n",
        "\n",
        "# 2) Convert my_trip_miles to kilometers by calling the function above\n",
        "my_trip_km =convert_distance(my_trip_miles)\n",
        "\n",
        "# 3) Fill in the blank to print the result of the conversion\n",
        "print(\"The distance in kilometers is \" + str(my_trip_km))\n",
        "\n",
        "# 4) Calculate the round-trip in kilometers by doubling the result,\n",
        "#    and fill in the blank to print the result\n",
        "print(\"The round-trip in kilometers is \" +str(my_trip_km*2))"
      ],
      "metadata": {
        "colab": {
          "base_uri": "https://localhost:8080/"
        },
        "id": "Xs6SdqCXcHhQ",
        "outputId": "6bad41dc-b94d-4bc2-b3aa-59725893fa13"
      },
      "execution_count": 2,
      "outputs": [
        {
          "output_type": "stream",
          "name": "stdout",
          "text": [
            "The distance in kilometers is 88.0\n",
            "The round-trip in kilometers is 176.0\n"
          ]
        }
      ]
    },
    {
      "cell_type": "markdown",
      "source": [
        "Let's revisit our lucky_number function. We want to change it, so that instead of printing the message, it returns the message. This way, the calling line can print the message, or do something else with it if needed. Fill in the blanks to complete the code to make it work."
      ],
      "metadata": {
        "id": "z8y1XkgDbv7v"
      }
    },
    {
      "cell_type": "code",
      "source": [
        "#Week#2  practice Quiz functions\n",
        "def lucky_number(name):\n",
        "  number = len(name) * 9\n",
        "  message = \"Hello \" + name + \". Your lucky number is \" + str(number)\n",
        "  return message\n",
        "\t    \n",
        "print(lucky_number(\"Kay\"))\n",
        "print(lucky_number(\"Cameron\"))"
      ],
      "metadata": {
        "id": "1_Rg0FGVbbH4",
        "colab": {
          "base_uri": "https://localhost:8080/"
        },
        "outputId": "f608f663-2f9a-4a9a-e2ee-1bfcbe5a3979"
      },
      "execution_count": 1,
      "outputs": [
        {
          "output_type": "stream",
          "name": "stdout",
          "text": [
            "Hello Kay. Your lucky number is 27\n",
            "Hello Cameron. Your lucky number is 63\n"
          ]
        }
      ]
    },
    {
      "cell_type": "markdown",
      "source": [
        "# the purpose of the def keyword?\n",
        "\n",
        "\n",
        "Used to define a new function"
      ],
      "metadata": {
        "id": "MVtDeJi8dbZX"
      }
    },
    {
      "cell_type": "code",
      "source": [
        ""
      ],
      "metadata": {
        "id": "603V7A25daBC"
      },
      "execution_count": null,
      "outputs": []
    },
    {
      "cell_type": "markdown",
      "source": [
        ""
      ],
      "metadata": {
        "id": "WtPTuhIOdaRh"
      }
    },
    {
      "cell_type": "code",
      "source": [
        ""
      ],
      "metadata": {
        "id": "2UGEZvijbbkY"
      },
      "execution_count": null,
      "outputs": []
    }
  ]
}